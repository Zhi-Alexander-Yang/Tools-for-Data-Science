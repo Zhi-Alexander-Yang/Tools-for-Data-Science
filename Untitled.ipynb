{
 "cells": [
  {
   "cell_type": "markdown",
   "id": "3b08df7b",
   "metadata": {},
   "source": [
    "# My Jupyter Notebook on IBM Watson Studio"
   ]
  },
  {
   "cell_type": "markdown",
   "id": "39309d9c",
   "metadata": {},
   "source": [
    "**Zhi Yang**  \n",
    "Mining Engineer"
   ]
  },
  {
   "cell_type": "markdown",
   "id": "a2f476da",
   "metadata": {},
   "source": [
    "*I am interested in data science because I want to apply data science in the mining industry. To be specific, I want to use some knowledge of data science to solve some mining problems.*"
   ]
  },
  {
   "cell_type": "markdown",
   "id": "a5c0fa51",
   "metadata": {},
   "source": [
    "### Print a short sentence, which is 'Hello world'."
   ]
  },
  {
   "cell_type": "code",
   "execution_count": 5,
   "id": "25490713",
   "metadata": {},
   "outputs": [
    {
     "name": "stdout",
     "output_type": "stream",
     "text": [
      "hello world\n"
     ]
    }
   ],
   "source": [
    "print(\"Hello world\")"
   ]
  },
  {
   "cell_type": "markdown",
   "id": "305e4e35",
   "metadata": {},
   "source": [
    "horizontal rule\n",
    "---\n",
    "  \n",
    "  \n",
    "      \n",
    "~~strikethrough~~  \n",
    "`highlight`  \n",
    "1.numbered list1  \n",
    "2.numbered list2  \n",
    "3.numbered list3  \n",
    "[I'm an inline-style link](https://www.google.com)  \n",
    "Inline-style: \n",
    "![alt text](https://github.com/adam-p/markdown-here/raw/master/src/common/images/icon48.png \"Logo Title Text 1\")  \n",
    "> blocked quotes  \n",
    "\n"
   ]
  },
  {
   "cell_type": "code",
   "execution_count": null,
   "id": "7b3597db",
   "metadata": {},
   "outputs": [],
   "source": []
  }
 ],
 "metadata": {
  "kernelspec": {
   "display_name": "Python 3 (ipykernel)",
   "language": "python",
   "name": "python3"
  },
  "language_info": {
   "codemirror_mode": {
    "name": "ipython",
    "version": 3
   },
   "file_extension": ".py",
   "mimetype": "text/x-python",
   "name": "python",
   "nbconvert_exporter": "python",
   "pygments_lexer": "ipython3",
   "version": "3.9.7"
  }
 },
 "nbformat": 4,
 "nbformat_minor": 5
}
